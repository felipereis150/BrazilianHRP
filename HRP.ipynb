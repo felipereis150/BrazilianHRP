{
 "cells": [
  {
   "cell_type": "code",
   "execution_count": 255,
   "metadata": {},
   "outputs": [],
   "source": [
    "import pandas as pd\n",
    "import numpy as np\n",
    "import re\n",
    "import datetime"
   ]
  },
  {
   "cell_type": "code",
   "execution_count": 256,
   "metadata": {},
   "outputs": [],
   "source": [
    "df = pd.read_excel(\"data/ibrx_mensal.xlsx\", na_values=\"-\")\n"
   ]
  },
  {
   "cell_type": "code",
   "execution_count": 257,
   "metadata": {},
   "outputs": [],
   "source": [
    "# transforming the 'Data' column to a date format\n",
    "df['Data'] = df['Data'].str.replace('Jan', '01').str.replace('Fev', '02').str.replace('Mar', '03').str.replace('Abr', '04').str.replace('Mai', '05').str.replace('Jun', '06').str.replace('Jul', '07').str.replace('Ago', '08').str.replace('Set', '09').str.replace('Out', '10').str.replace('Nov', '11').str.replace('Dez', '12')\n",
    "df['Data'] = pd.to_datetime(df['Data'], format='%m-%Y')"
   ]
  },
  {
   "cell_type": "code",
   "execution_count": 258,
   "metadata": {},
   "outputs": [],
   "source": [
    "df = df[(df['Data'] >= '2000-01-01') & (df['Data'] <= '2020-02-01')]\n",
    "\n",
    "# replacing NA values with 0\n",
    "df = df.dropna(axis=1)\n"
   ]
  },
  {
   "cell_type": "code",
   "execution_count": 259,
   "metadata": {},
   "outputs": [
    {
     "data": {
      "text/plain": [
       "Index(['Data', 'ALPA4', 'ABEV3', 'BBDC3', 'BBDC4', 'BBAS3', 'BRKM5', 'CMIG4',\n",
       "       'CPLE6', 'ELET3', 'ELET6', 'EMBR3', 'EGIE3', 'GGBR4', 'GOAU4', 'ITSA4',\n",
       "       'ITUB4', 'LIGT3', 'PETR3', 'PETR4', 'SBSP3', 'CSNA3', 'VIVT3', 'TIMS3',\n",
       "       'USIM5', 'VALE3', 'IBOV'],\n",
       "      dtype='object')"
      ]
     },
     "execution_count": 259,
     "metadata": {},
     "output_type": "execute_result"
    }
   ],
   "source": [
    "df.columns"
   ]
  },
  {
   "cell_type": "code",
   "execution_count": 260,
   "metadata": {},
   "outputs": [],
   "source": [
    "import numpy as np\n",
    "import pandas as pd\n",
    "from scipy.spatial.distance import pdist, squareform\n",
    "from scipy.cluster.hierarchy import linkage, leaves_list\n",
    "\n",
    "\n",
    "def HRP_Portfolio(df, linkage_method=\"single\", graph=False):\n",
    "    if linkage_method not in [\"single\", \"complete\", \"average\", \"ward\"]:\n",
    "        return \"ERROR: linkage_method argument only supports 'single', 'complete', 'average' or 'ward' options\"\n",
    "    if linkage_method == \"ward\":\n",
    "        linkage_method = \"ward.D2\"\n",
    "    \n",
    "    # Stage 1: Tree clustering\n",
    "    corr = df.corr()\n",
    "    distance = np.sqrt(0.5 * (1 - corr))\n",
    "    euclidean_distance = squareform(pdist(distance, metric=\"euclidean\"))\n",
    "    \n",
    "    # Stage 2: Quasi-Diagonalisation\n",
    "    clustering = linkage(euclidean_distance, method=linkage_method)\n",
    "    clusters_order = leaves_list(clustering)\n",
    "    \n",
    "    # Stage 3: Recursive Bisection\n",
    "    weights = np.ones(df.shape[1])\n",
    "    index = [clusters_order.tolist()]\n",
    "    while len(index) > 0:\n",
    "        new_index = []\n",
    "        for i in index:\n",
    "            middle = len(i) // 2\n",
    "            indexa = i[:middle]\n",
    "            indexb = i[middle:]\n",
    "            covar_clustera = df.iloc[:, indexa].iloc[indexa, :]\n",
    "            covar_clusterb = df.iloc[:, indexb].iloc[indexb, :]\n",
    "            weightsa = 1 / np.diag(covar_clustera)\n",
    "            weightsa /= np.sum(weightsa)\n",
    "            weightsb = 1 / np.diag(covar_clusterb)\n",
    "            weightsb /= np.sum(weightsb)\n",
    "            variance_clustera = np.dot(weightsa, np.dot(covar_clustera, weightsa))\n",
    "            variance_clusterb = np.dot(weightsb, np.dot(covar_clusterb, weightsb))\n",
    "            alpha = 1 - variance_clustera / (variance_clustera + variance_clusterb)\n",
    "            weights[indexa] *= alpha\n",
    "            weights[indexb] *= (1 - alpha)\n",
    "            if len(indexa) > 1:\n",
    "                new_index.append(indexa)\n",
    "            if len(indexb) > 1:\n",
    "                new_index.append(indexb)\n",
    "        index = new_index\n",
    "    \n",
    "    if graph:\n",
    "        import matplotlib.pyplot as plt\n",
    "        from scipy.cluster.hierarchy import dendrogram\n",
    "        \n",
    "        plt.figure(figsize=(10, 7))\n",
    "        plt.xlabel(\"Stocks\")\n",
    "        plt.ylabel(\"Distance\")\n",
    "        plt.title(\"Cluster Dendrogram - HRP\")\n",
    "        column_names = list(df.columns)\n",
    "        dendrogram(clustering, leaf_rotation=90, leaf_font_size=8, labels=column_names)\n",
    "        plt.show()\n",
    "\n",
    "\n",
    "    \n",
    "    return weights\n"
   ]
  },
  {
   "cell_type": "code",
   "execution_count": 261,
   "metadata": {},
   "outputs": [],
   "source": [
    "import pandas as pd\n",
    "import numpy as np\n",
    "\n",
    "def min_var_portfolio(cov):\n",
    "    inv_cov = np.linalg.inv(cov)\n",
    "    ones = np.ones(len(cov))\n",
    "    return np.dot(inv_cov, ones) / np.dot(np.dot(ones, inv_cov), ones)\n",
    "\n",
    "\n",
    "def rolling_window_HRP(data, window_size):\n",
    "    \n",
    "    \"\"\"\n",
    "    This function applies the Hierarchical Risk Parity algorithm to a rolling window of historical returns.\n",
    "\n",
    "    Parameters:\n",
    "    data (DataFrame): Historical returns with dates in a column.\n",
    "    window_size (int): The size of the rolling window.\n",
    "\n",
    "    Returns:\n",
    "    DataFrame: A dataframe with the realized returns, HRP returns and MV returns for each out-of-sample window.\n",
    "    \"\"\"\n",
    "\n",
    "    number_of_rows = len(data)\n",
    "    number_of_columns = len(data.columns)\n",
    "    weights = np.zeros((number_of_rows - 1, number_of_columns - 1))\n",
    "    weights_mv = np.zeros((number_of_rows - 1, number_of_columns - 1))\n",
    "    out_of_sample = number_of_rows - window_size\n",
    "    Rport = np.empty((out_of_sample, 4))\n",
    "    \n",
    "    for i in range(out_of_sample):\n",
    "        df_rolling = data.iloc[i:i + window_size, 1:]\n",
    "        df_cov = pd.DataFrame(df_rolling.cov().values, columns=df_rolling.columns, index=df_rolling.columns)\n",
    "        weights[i, :] = HRP_Portfolio(df_cov, graph=False)\n",
    "        weights_mv[i, :] = min_var_portfolio(df_cov)\n",
    "        Rport[i, 0] = data.iloc[i + window_size, 0]  \n",
    "        Rport[i, 1] = np.mean(data.iloc[i + window_size, 1:])\n",
    "        Rport[i, 2] = np.dot(weights[i, :], data.iloc[i + window_size, 1:])\n",
    "        Rport[i, 3] = np.dot(weights_mv[i, :], data.iloc[i + window_size, 1:])\n",
    "    \n",
    "    Rport = pd.DataFrame(Rport, columns=[\"Date\", \"Equal Weights\", \"HRP\", \"MV\"])\n",
    "    Rport[\"Date\"] = pd.to_datetime(Rport[\"Date\"])\n",
    "    \n",
    "    return Rport\n"
   ]
  },
  {
   "cell_type": "code",
   "execution_count": 264,
   "metadata": {},
   "outputs": [
    {
     "name": "stderr",
     "output_type": "stream",
     "text": [
      "C:\\Users\\felip\\AppData\\Local\\Temp\\ipykernel_14620\\3867758454.py:19: ClusterWarning: scipy.cluster: The symmetric non-negative hollow observation matrix looks suspiciously like an uncondensed distance matrix\n",
      "  clustering = linkage(euclidean_distance, method=linkage_method)\n"
     ]
    },
    {
     "data": {
      "image/png": "[encoded data removed]",
      "text/plain": [
       "<Figure size 720x504 with 1 Axes>"
      ]
     },
     "metadata": {
      "needs_background": "light"
     },
     "output_type": "display_data"
    },
    {
     "data": {
      "text/plain": [
       "array([ 2.08638056e-02, -2.91264678e-01, -4.47885337e-02,  5.47972803e-02,\n",
       "        1.06024938e-01, -1.29596427e-02,  9.43759797e-02,  3.82186502e-01,\n",
       "       -3.77468100e-01,  1.60779034e-02, -3.15955950e-01,  6.40846572e-01,\n",
       "        4.76923767e-02,  4.27274969e-01,  8.49221312e-03, -5.41842961e-03,\n",
       "       -5.25713692e-02,  3.28173235e-01, -5.90883970e-02, -3.42546640e-03,\n",
       "       -4.09921033e-04, -4.22808940e-04, -6.09413539e-03,  6.95227688e-04,\n",
       "        9.37666974e-02, -5.14002679e-02])"
      ]
     },
     "execution_count": 264,
     "metadata": {},
     "output_type": "execute_result"
    }
   ],
   "source": [
    "df2 = df.iloc[:, 1:]\n",
    "hrp = HRP_Portfolio(df2, graph=True)\n",
    "hrp"
   ]
  },
  {
   "cell_type": "code",
   "execution_count": 267,
   "metadata": {},
   "outputs": [
    {
     "name": "stderr",
     "output_type": "stream",
     "text": [
      "C:\\Users\\felip\\AppData\\Local\\Temp\\ipykernel_14620\\3867758454.py:19: ClusterWarning: scipy.cluster: The symmetric non-negative hollow observation matrix looks suspiciously like an uncondensed distance matrix\n",
      "  clustering = linkage(euclidean_distance, method=linkage_method)\n"
     ]
    },
    {
     "data": {
      "text/html": [
       "<div>\n",
       "<style scoped>\n",
       "    .dataframe tbody tr th:only-of-type {\n",
       "        vertical-align: middle;\n",
       "    }\n",
       "\n",
       "    .dataframe tbody tr th {\n",
       "        vertical-align: top;\n",
       "    }\n",
       "\n",
       "    .dataframe thead th {\n",
       "        text-align: right;\n",
       "    }\n",
       "</style>\n",
       "<table border=\"1\" class=\"dataframe\">\n",
       "  <thead>\n",
       "    <tr style=\"text-align: right;\">\n",
       "      <th></th>\n",
       "      <th>Date</th>\n",
       "      <th>Equal Weights</th>\n",
       "      <th>HRP</th>\n",
       "      <th>MV</th>\n",
       "    </tr>\n",
       "  </thead>\n",
       "  <tbody>\n",
       "    <tr>\n",
       "      <th>0</th>\n",
       "      <td>1970-01-01 00:00:00.000000000</td>\n",
       "      <td>-5.999268</td>\n",
       "      <td>-4.994623</td>\n",
       "      <td>-8.396179</td>\n",
       "    </tr>\n",
       "    <tr>\n",
       "      <th>1</th>\n",
       "      <td>1970-01-01 00:00:00.000000002</td>\n",
       "      <td>15.019031</td>\n",
       "      <td>13.874689</td>\n",
       "      <td>14.817926</td>\n",
       "    </tr>\n",
       "    <tr>\n",
       "      <th>2</th>\n",
       "      <td>1969-12-31 23:59:59.999999993</td>\n",
       "      <td>-6.380284</td>\n",
       "      <td>-7.403602</td>\n",
       "      <td>-5.429452</td>\n",
       "    </tr>\n",
       "    <tr>\n",
       "      <th>3</th>\n",
       "      <td>1969-12-31 23:59:59.999999992</td>\n",
       "      <td>-6.549963</td>\n",
       "      <td>-9.712360</td>\n",
       "      <td>-19.441430</td>\n",
       "    </tr>\n",
       "    <tr>\n",
       "      <th>4</th>\n",
       "      <td>1970-01-01 00:00:00.000000007</td>\n",
       "      <td>3.881629</td>\n",
       "      <td>2.924667</td>\n",
       "      <td>4.257075</td>\n",
       "    </tr>\n",
       "    <tr>\n",
       "      <th>...</th>\n",
       "      <td>...</td>\n",
       "      <td>...</td>\n",
       "      <td>...</td>\n",
       "      <td>...</td>\n",
       "    </tr>\n",
       "    <tr>\n",
       "      <th>177</th>\n",
       "      <td>1970-01-01 00:00:00.000000005</td>\n",
       "      <td>1.006296</td>\n",
       "      <td>-0.991657</td>\n",
       "      <td>-3.551084</td>\n",
       "    </tr>\n",
       "    <tr>\n",
       "      <th>178</th>\n",
       "      <td>1970-01-01 00:00:00.000000016</td>\n",
       "      <td>3.352928</td>\n",
       "      <td>3.715713</td>\n",
       "      <td>3.305966</td>\n",
       "    </tr>\n",
       "    <tr>\n",
       "      <th>179</th>\n",
       "      <td>1970-01-01 00:00:00.000000004</td>\n",
       "      <td>9.734312</td>\n",
       "      <td>8.935761</td>\n",
       "      <td>5.657007</td>\n",
       "    </tr>\n",
       "    <tr>\n",
       "      <th>180</th>\n",
       "      <td>1970-01-01 00:00:00.000000007</td>\n",
       "      <td>-1.348356</td>\n",
       "      <td>-0.539980</td>\n",
       "      <td>5.627517</td>\n",
       "    </tr>\n",
       "    <tr>\n",
       "      <th>181</th>\n",
       "      <td>1969-12-31 23:59:59.999999989</td>\n",
       "      <td>-9.163332</td>\n",
       "      <td>-9.763954</td>\n",
       "      <td>-9.600981</td>\n",
       "    </tr>\n",
       "  </tbody>\n",
       "</table>\n",
       "<p>182 rows × 4 columns</p>\n",
       "</div>"
      ],
      "text/plain": [
       "                             Date  Equal Weights        HRP         MV\n",
       "0   1970-01-01 00:00:00.000000000      -5.999268  -4.994623  -8.396179\n",
       "1   1970-01-01 00:00:00.000000002      15.019031  13.874689  14.817926\n",
       "2   1969-12-31 23:59:59.999999993      -6.380284  -7.403602  -5.429452\n",
       "3   1969-12-31 23:59:59.999999992      -6.549963  -9.712360 -19.441430\n",
       "4   1970-01-01 00:00:00.000000007       3.881629   2.924667   4.257075\n",
       "..                            ...            ...        ...        ...\n",
       "177 1970-01-01 00:00:00.000000005       1.006296  -0.991657  -3.551084\n",
       "178 1970-01-01 00:00:00.000000016       3.352928   3.715713   3.305966\n",
       "179 1970-01-01 00:00:00.000000004       9.734312   8.935761   5.657007\n",
       "180 1970-01-01 00:00:00.000000007      -1.348356  -0.539980   5.627517\n",
       "181 1969-12-31 23:59:59.999999989      -9.163332  -9.763954  -9.600981\n",
       "\n",
       "[182 rows x 4 columns]"
      ]
     },
     "execution_count": 267,
     "metadata": {},
     "output_type": "execute_result"
    }
   ],
   "source": [
    "rolling_window_HRP(df2, 60)"
   ]
  },
  {
   "cell_type": "code",
   "execution_count": 271,
   "metadata": {},
   "outputs": [
    {
     "name": "stderr",
     "output_type": "stream",
     "text": [
      "C:\\Users\\felip\\AppData\\Local\\Temp\\ipykernel_14620\\3867758454.py:19: ClusterWarning: scipy.cluster: The symmetric non-negative hollow observation matrix looks suspiciously like an uncondensed distance matrix\n",
      "  clustering = linkage(euclidean_distance, method=linkage_method)\n"
     ]
    },
    {
     "data": {
      "text/html": [
       "<div>\n",
       "<style scoped>\n",
       "    .dataframe tbody tr th:only-of-type {\n",
       "        vertical-align: middle;\n",
       "    }\n",
       "\n",
       "    .dataframe tbody tr th {\n",
       "        vertical-align: top;\n",
       "    }\n",
       "\n",
       "    .dataframe thead th {\n",
       "        text-align: right;\n",
       "    }\n",
       "</style>\n",
       "<table border=\"1\" class=\"dataframe\">\n",
       "  <thead>\n",
       "    <tr style=\"text-align: right;\">\n",
       "      <th></th>\n",
       "      <th>Date</th>\n",
       "      <th>Equal Weights</th>\n",
       "      <th>HRP</th>\n",
       "      <th>MV</th>\n",
       "    </tr>\n",
       "  </thead>\n",
       "  <tbody>\n",
       "    <tr>\n",
       "      <th>0</th>\n",
       "      <td>1970-01-01 00:00:00.000000000</td>\n",
       "      <td>-5.999268</td>\n",
       "      <td>-4.994623</td>\n",
       "      <td>-8.396179</td>\n",
       "    </tr>\n",
       "    <tr>\n",
       "      <th>1</th>\n",
       "      <td>1970-01-01 00:00:00.000000002</td>\n",
       "      <td>15.019031</td>\n",
       "      <td>13.874689</td>\n",
       "      <td>14.817926</td>\n",
       "    </tr>\n",
       "    <tr>\n",
       "      <th>2</th>\n",
       "      <td>1969-12-31 23:59:59.999999993</td>\n",
       "      <td>-6.380284</td>\n",
       "      <td>-7.403602</td>\n",
       "      <td>-5.429452</td>\n",
       "    </tr>\n",
       "    <tr>\n",
       "      <th>3</th>\n",
       "      <td>1969-12-31 23:59:59.999999992</td>\n",
       "      <td>-6.549963</td>\n",
       "      <td>-9.712360</td>\n",
       "      <td>-19.441430</td>\n",
       "    </tr>\n",
       "    <tr>\n",
       "      <th>4</th>\n",
       "      <td>1970-01-01 00:00:00.000000007</td>\n",
       "      <td>3.881629</td>\n",
       "      <td>2.924667</td>\n",
       "      <td>4.257075</td>\n",
       "    </tr>\n",
       "    <tr>\n",
       "      <th>...</th>\n",
       "      <td>...</td>\n",
       "      <td>...</td>\n",
       "      <td>...</td>\n",
       "      <td>...</td>\n",
       "    </tr>\n",
       "    <tr>\n",
       "      <th>177</th>\n",
       "      <td>1970-01-01 00:00:00.000000005</td>\n",
       "      <td>1.006296</td>\n",
       "      <td>-0.991657</td>\n",
       "      <td>-3.551084</td>\n",
       "    </tr>\n",
       "    <tr>\n",
       "      <th>178</th>\n",
       "      <td>1970-01-01 00:00:00.000000016</td>\n",
       "      <td>3.352928</td>\n",
       "      <td>3.715713</td>\n",
       "      <td>3.305966</td>\n",
       "    </tr>\n",
       "    <tr>\n",
       "      <th>179</th>\n",
       "      <td>1970-01-01 00:00:00.000000004</td>\n",
       "      <td>9.734312</td>\n",
       "      <td>8.935761</td>\n",
       "      <td>5.657007</td>\n",
       "    </tr>\n",
       "    <tr>\n",
       "      <th>180</th>\n",
       "      <td>1970-01-01 00:00:00.000000007</td>\n",
       "      <td>-1.348356</td>\n",
       "      <td>-0.539980</td>\n",
       "      <td>5.627517</td>\n",
       "    </tr>\n",
       "    <tr>\n",
       "      <th>181</th>\n",
       "      <td>1969-12-31 23:59:59.999999989</td>\n",
       "      <td>-9.163332</td>\n",
       "      <td>-9.763954</td>\n",
       "      <td>-9.600981</td>\n",
       "    </tr>\n",
       "  </tbody>\n",
       "</table>\n",
       "<p>182 rows × 4 columns</p>\n",
       "</div>"
      ],
      "text/plain": [
       "                             Date  Equal Weights        HRP         MV\n",
       "0   1970-01-01 00:00:00.000000000      -5.999268  -4.994623  -8.396179\n",
       "1   1970-01-01 00:00:00.000000002      15.019031  13.874689  14.817926\n",
       "2   1969-12-31 23:59:59.999999993      -6.380284  -7.403602  -5.429452\n",
       "3   1969-12-31 23:59:59.999999992      -6.549963  -9.712360 -19.441430\n",
       "4   1970-01-01 00:00:00.000000007       3.881629   2.924667   4.257075\n",
       "..                            ...            ...        ...        ...\n",
       "177 1970-01-01 00:00:00.000000005       1.006296  -0.991657  -3.551084\n",
       "178 1970-01-01 00:00:00.000000016       3.352928   3.715713   3.305966\n",
       "179 1970-01-01 00:00:00.000000004       9.734312   8.935761   5.657007\n",
       "180 1970-01-01 00:00:00.000000007      -1.348356  -0.539980   5.627517\n",
       "181 1969-12-31 23:59:59.999999989      -9.163332  -9.763954  -9.600981\n",
       "\n",
       "[182 rows x 4 columns]"
      ]
     },
     "execution_count": 271,
     "metadata": {},
     "output_type": "execute_result"
    }
   ],
   "source": [
    "rolling_window_HRP(df2, 60)"
   ]
  }
 ],
 "metadata": {
  "kernelspec": {
   "display_name": "Python 3",
   "language": "python",
   "name": "python3"
  },
  "language_info": {
   "codemirror_mode": {
    "name": "ipython",
    "version": 3
   },
   "file_extension": ".py",
   "mimetype": "text/x-python",
   "name": "python",
   "nbconvert_exporter": "python",
   "pygments_lexer": "ipython3",
   "version": "3.10.6"
  },
  "orig_nbformat": 4,
  "vscode": {
   "interpreter": {
    "hash": "83b617c66aa9ed92efeb8629453f4b5eb61ab11a86f5ad7ba589d02897e9d812"
   }
  }
 },
 "nbformat": 4,
 "nbformat_minor": 2
}
